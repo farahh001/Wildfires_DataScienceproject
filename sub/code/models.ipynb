{
  "nbformat": 4,
  "nbformat_minor": 0,
  "metadata": {
    "colab": {
      "name": "models.ipynb",
      "provenance": [],
      "collapsed_sections": []
    },
    "kernelspec": {
      "name": "python3",
      "display_name": "Python 3"
    },
    "language_info": {
      "name": "python"
    },
    "accelerator": "GPU"
  },
  "cells": [
    {
      "cell_type": "code",
      "metadata": {
        "id": "zGFwFzJph0u-"
      },
      "source": [
        "# Models from Scikit-Learn\n",
        "from sklearn.svm import SVC\n",
        "from sklearn.model_selection import train_test_split\n",
        "from sklearn.preprocessing import StandardScaler\n",
        "from sklearn.linear_model import LogisticRegression\n",
        "from sklearn.neighbors import KNeighborsClassifier\n",
        "from sklearn.ensemble import RandomForestClassifier\n",
        "from sklearn.ensemble import RandomForestRegressor\n",
        "\n",
        "\n",
        "#import data analysis tools\n",
        "import matplotlib.pyplot as plt\n",
        "import pandas as pd\n",
        "import numpy as np\n",
        "import statsmodels.api as sm\n",
        "import seaborn as sns\n",
        "\n",
        "#Model Evaluations\n",
        "from sklearn.model_selection import RandomizedSearchCV, GridSearchCV\n",
        "from sklearn import metrics\n",
        "from sklearn.model_selection import KFold\n",
        "from sklearn.model_selection import cross_val_score\n",
        "from sklearn.metrics import plot_roc_curve\n",
        "from sklearn.metrics import confusion_matrix, classification_report\n",
        "from sklearn.metrics import accuracy_score, recall_score, precision_score\n"
      ],
      "execution_count": 4,
      "outputs": []
    },
    {
      "cell_type": "markdown",
      "metadata": {
        "id": "YvFKwOtgswNt"
      },
      "source": [
        "# Get Data"
      ]
    },
    {
      "cell_type": "code",
      "metadata": {
        "id": "WoSdxX3Zj6kb",
        "colab": {
          "base_uri": "https://localhost:8080/",
          "height": 825
        },
        "outputId": "0e19ce6e-775d-49dd-e85b-c400ac4a1a82"
      },
      "source": [
        "data = pd.read_csv(\"cleaned.csv\", index_col = 0)\n",
        "data"
      ],
      "execution_count": 5,
      "outputs": [
        {
          "output_type": "execute_result",
          "data": {
            "text/html": [
              "<div>\n",
              "<style scoped>\n",
              "    .dataframe tbody tr th:only-of-type {\n",
              "        vertical-align: middle;\n",
              "    }\n",
              "\n",
              "    .dataframe tbody tr th {\n",
              "        vertical-align: top;\n",
              "    }\n",
              "\n",
              "    .dataframe thead th {\n",
              "        text-align: right;\n",
              "    }\n",
              "</style>\n",
              "<table border=\"1\" class=\"dataframe\">\n",
              "  <thead>\n",
              "    <tr style=\"text-align: right;\">\n",
              "      <th></th>\n",
              "      <th>AcresBurned</th>\n",
              "      <th>Counties</th>\n",
              "      <th>Latitude</th>\n",
              "      <th>Longitude</th>\n",
              "      <th>Started</th>\n",
              "      <th>FIPS</th>\n",
              "      <th>Temp Day One</th>\n",
              "      <th>Temp Day Two</th>\n",
              "      <th>Temp Day Three</th>\n",
              "      <th>Temp Day Four</th>\n",
              "      <th>Temp Day Five</th>\n",
              "      <th>MaxTemp Day One</th>\n",
              "      <th>MaxTemp Day Two</th>\n",
              "      <th>MaxTemp Day Three</th>\n",
              "      <th>MaxTemp Day Four</th>\n",
              "      <th>MaxTemp Day Five</th>\n",
              "      <th>MinTemp Day One</th>\n",
              "      <th>MinTemp Day Two</th>\n",
              "      <th>MinTemp Day Three</th>\n",
              "      <th>MinTemp Day Four</th>\n",
              "      <th>MinTemp Day Five</th>\n",
              "      <th>Humidity Day One</th>\n",
              "      <th>Humidity Day Two</th>\n",
              "      <th>Humidity Day Three</th>\n",
              "      <th>Humidity Day Four</th>\n",
              "      <th>Humidity Day Five</th>\n",
              "      <th>Fire</th>\n",
              "    </tr>\n",
              "  </thead>\n",
              "  <tbody>\n",
              "    <tr>\n",
              "      <th>0</th>\n",
              "      <td>257314.0</td>\n",
              "      <td>Tuolumne</td>\n",
              "      <td>37.857000</td>\n",
              "      <td>-120.086000</td>\n",
              "      <td>2013-08-17 15:25:00</td>\n",
              "      <td>6109.0</td>\n",
              "      <td>74.0</td>\n",
              "      <td>78.0</td>\n",
              "      <td>79.0</td>\n",
              "      <td>79.0</td>\n",
              "      <td>80.0</td>\n",
              "      <td>83.0</td>\n",
              "      <td>87.0</td>\n",
              "      <td>88.0</td>\n",
              "      <td>88.0</td>\n",
              "      <td>89.0</td>\n",
              "      <td>50.0</td>\n",
              "      <td>52.0</td>\n",
              "      <td>52.0</td>\n",
              "      <td>52.0</td>\n",
              "      <td>54.0</td>\n",
              "      <td>38.000</td>\n",
              "      <td>33.000</td>\n",
              "      <td>34.000</td>\n",
              "      <td>35.125</td>\n",
              "      <td>33.000</td>\n",
              "      <td>True</td>\n",
              "    </tr>\n",
              "    <tr>\n",
              "      <th>1</th>\n",
              "      <td>30274.0</td>\n",
              "      <td>Los Angeles</td>\n",
              "      <td>34.585595</td>\n",
              "      <td>-118.423176</td>\n",
              "      <td>2013-05-30 15:28:00</td>\n",
              "      <td>6037.0</td>\n",
              "      <td>72.0</td>\n",
              "      <td>72.0</td>\n",
              "      <td>75.0</td>\n",
              "      <td>73.0</td>\n",
              "      <td>78.0</td>\n",
              "      <td>82.0</td>\n",
              "      <td>82.0</td>\n",
              "      <td>86.0</td>\n",
              "      <td>83.0</td>\n",
              "      <td>87.0</td>\n",
              "      <td>42.0</td>\n",
              "      <td>43.0</td>\n",
              "      <td>45.0</td>\n",
              "      <td>46.0</td>\n",
              "      <td>47.0</td>\n",
              "      <td>46.000</td>\n",
              "      <td>46.500</td>\n",
              "      <td>40.625</td>\n",
              "      <td>53.875</td>\n",
              "      <td>39.625</td>\n",
              "      <td>True</td>\n",
              "    </tr>\n",
              "    <tr>\n",
              "      <th>2</th>\n",
              "      <td>27531.0</td>\n",
              "      <td>Riverside</td>\n",
              "      <td>33.709500</td>\n",
              "      <td>-116.728850</td>\n",
              "      <td>2013-07-15 13:43:00</td>\n",
              "      <td>6065.0</td>\n",
              "      <td>82.0</td>\n",
              "      <td>77.0</td>\n",
              "      <td>79.0</td>\n",
              "      <td>82.0</td>\n",
              "      <td>84.0</td>\n",
              "      <td>88.0</td>\n",
              "      <td>82.0</td>\n",
              "      <td>84.0</td>\n",
              "      <td>88.0</td>\n",
              "      <td>90.0</td>\n",
              "      <td>66.0</td>\n",
              "      <td>65.0</td>\n",
              "      <td>65.0</td>\n",
              "      <td>66.0</td>\n",
              "      <td>68.0</td>\n",
              "      <td>34.750</td>\n",
              "      <td>51.375</td>\n",
              "      <td>48.375</td>\n",
              "      <td>27.875</td>\n",
              "      <td>27.000</td>\n",
              "      <td>True</td>\n",
              "    </tr>\n",
              "    <tr>\n",
              "      <th>3</th>\n",
              "      <td>27440.0</td>\n",
              "      <td>Placer</td>\n",
              "      <td>39.120000</td>\n",
              "      <td>-120.650000</td>\n",
              "      <td>2013-08-10 16:30:00</td>\n",
              "      <td>6061.0</td>\n",
              "      <td>74.0</td>\n",
              "      <td>73.0</td>\n",
              "      <td>68.0</td>\n",
              "      <td>67.0</td>\n",
              "      <td>67.0</td>\n",
              "      <td>85.0</td>\n",
              "      <td>83.0</td>\n",
              "      <td>77.0</td>\n",
              "      <td>77.0</td>\n",
              "      <td>78.0</td>\n",
              "      <td>45.0</td>\n",
              "      <td>44.0</td>\n",
              "      <td>45.0</td>\n",
              "      <td>41.0</td>\n",
              "      <td>40.0</td>\n",
              "      <td>44.625</td>\n",
              "      <td>42.750</td>\n",
              "      <td>53.125</td>\n",
              "      <td>56.250</td>\n",
              "      <td>53.000</td>\n",
              "      <td>True</td>\n",
              "    </tr>\n",
              "    <tr>\n",
              "      <th>4</th>\n",
              "      <td>22992.0</td>\n",
              "      <td>Fresno</td>\n",
              "      <td>37.279000</td>\n",
              "      <td>-119.318000</td>\n",
              "      <td>2013-07-22 22:15:00</td>\n",
              "      <td>6019.0</td>\n",
              "      <td>68.0</td>\n",
              "      <td>71.0</td>\n",
              "      <td>74.0</td>\n",
              "      <td>75.0</td>\n",
              "      <td>74.0</td>\n",
              "      <td>76.0</td>\n",
              "      <td>80.0</td>\n",
              "      <td>82.0</td>\n",
              "      <td>84.0</td>\n",
              "      <td>82.0</td>\n",
              "      <td>46.0</td>\n",
              "      <td>52.0</td>\n",
              "      <td>55.0</td>\n",
              "      <td>57.0</td>\n",
              "      <td>54.0</td>\n",
              "      <td>29.375</td>\n",
              "      <td>28.125</td>\n",
              "      <td>27.250</td>\n",
              "      <td>25.000</td>\n",
              "      <td>34.000</td>\n",
              "      <td>True</td>\n",
              "    </tr>\n",
              "    <tr>\n",
              "      <th>...</th>\n",
              "      <td>...</td>\n",
              "      <td>...</td>\n",
              "      <td>...</td>\n",
              "      <td>...</td>\n",
              "      <td>...</td>\n",
              "      <td>...</td>\n",
              "      <td>...</td>\n",
              "      <td>...</td>\n",
              "      <td>...</td>\n",
              "      <td>...</td>\n",
              "      <td>...</td>\n",
              "      <td>...</td>\n",
              "      <td>...</td>\n",
              "      <td>...</td>\n",
              "      <td>...</td>\n",
              "      <td>...</td>\n",
              "      <td>...</td>\n",
              "      <td>...</td>\n",
              "      <td>...</td>\n",
              "      <td>...</td>\n",
              "      <td>...</td>\n",
              "      <td>...</td>\n",
              "      <td>...</td>\n",
              "      <td>...</td>\n",
              "      <td>...</td>\n",
              "      <td>...</td>\n",
              "      <td>...</td>\n",
              "    </tr>\n",
              "    <tr>\n",
              "      <th>2941</th>\n",
              "      <td>0.0</td>\n",
              "      <td>Riverside</td>\n",
              "      <td>33.827979</td>\n",
              "      <td>-117.499619</td>\n",
              "      <td>2018-10-10 12:08:00</td>\n",
              "      <td>6065.0</td>\n",
              "      <td>70.0</td>\n",
              "      <td>69.0</td>\n",
              "      <td>77.0</td>\n",
              "      <td>65.0</td>\n",
              "      <td>71.0</td>\n",
              "      <td>74.0</td>\n",
              "      <td>74.0</td>\n",
              "      <td>85.0</td>\n",
              "      <td>67.0</td>\n",
              "      <td>78.0</td>\n",
              "      <td>63.0</td>\n",
              "      <td>63.0</td>\n",
              "      <td>69.0</td>\n",
              "      <td>64.0</td>\n",
              "      <td>64.0</td>\n",
              "      <td>59.500</td>\n",
              "      <td>56.375</td>\n",
              "      <td>48.625</td>\n",
              "      <td>73.750</td>\n",
              "      <td>64.875</td>\n",
              "      <td>False</td>\n",
              "    </tr>\n",
              "    <tr>\n",
              "      <th>2942</th>\n",
              "      <td>0.0</td>\n",
              "      <td>Nevada</td>\n",
              "      <td>39.409722</td>\n",
              "      <td>-121.000556</td>\n",
              "      <td>2018-06-28 15:03:04</td>\n",
              "      <td>6057.0</td>\n",
              "      <td>73.0</td>\n",
              "      <td>79.0</td>\n",
              "      <td>87.0</td>\n",
              "      <td>86.0</td>\n",
              "      <td>84.0</td>\n",
              "      <td>79.0</td>\n",
              "      <td>86.0</td>\n",
              "      <td>96.0</td>\n",
              "      <td>93.0</td>\n",
              "      <td>90.0</td>\n",
              "      <td>57.0</td>\n",
              "      <td>58.0</td>\n",
              "      <td>67.0</td>\n",
              "      <td>69.0</td>\n",
              "      <td>66.0</td>\n",
              "      <td>39.250</td>\n",
              "      <td>37.875</td>\n",
              "      <td>27.250</td>\n",
              "      <td>27.375</td>\n",
              "      <td>33.500</td>\n",
              "      <td>False</td>\n",
              "    </tr>\n",
              "    <tr>\n",
              "      <th>2943</th>\n",
              "      <td>0.0</td>\n",
              "      <td>Yolo</td>\n",
              "      <td>38.734634</td>\n",
              "      <td>-121.729691</td>\n",
              "      <td>2018-11-25 12:02:02</td>\n",
              "      <td>6113.0</td>\n",
              "      <td>58.0</td>\n",
              "      <td>58.0</td>\n",
              "      <td>55.0</td>\n",
              "      <td>59.0</td>\n",
              "      <td>55.0</td>\n",
              "      <td>64.0</td>\n",
              "      <td>64.0</td>\n",
              "      <td>57.0</td>\n",
              "      <td>63.0</td>\n",
              "      <td>57.0</td>\n",
              "      <td>50.0</td>\n",
              "      <td>50.0</td>\n",
              "      <td>51.0</td>\n",
              "      <td>53.0</td>\n",
              "      <td>51.0</td>\n",
              "      <td>64.250</td>\n",
              "      <td>63.625</td>\n",
              "      <td>86.000</td>\n",
              "      <td>83.875</td>\n",
              "      <td>82.875</td>\n",
              "      <td>False</td>\n",
              "    </tr>\n",
              "    <tr>\n",
              "      <th>2944</th>\n",
              "      <td>0.0</td>\n",
              "      <td>San Diego</td>\n",
              "      <td>33.351145</td>\n",
              "      <td>-117.403719</td>\n",
              "      <td>2018-10-22 19:20:44</td>\n",
              "      <td>6073.0</td>\n",
              "      <td>67.0</td>\n",
              "      <td>68.0</td>\n",
              "      <td>71.0</td>\n",
              "      <td>71.0</td>\n",
              "      <td>77.0</td>\n",
              "      <td>72.0</td>\n",
              "      <td>73.0</td>\n",
              "      <td>75.0</td>\n",
              "      <td>76.0</td>\n",
              "      <td>82.0</td>\n",
              "      <td>60.0</td>\n",
              "      <td>60.0</td>\n",
              "      <td>58.0</td>\n",
              "      <td>62.0</td>\n",
              "      <td>65.0</td>\n",
              "      <td>76.625</td>\n",
              "      <td>79.125</td>\n",
              "      <td>79.000</td>\n",
              "      <td>74.500</td>\n",
              "      <td>58.750</td>\n",
              "      <td>False</td>\n",
              "    </tr>\n",
              "    <tr>\n",
              "      <th>2945</th>\n",
              "      <td>0.0</td>\n",
              "      <td>Riverside</td>\n",
              "      <td>33.451480</td>\n",
              "      <td>-116.058980</td>\n",
              "      <td>2018-10-14 15:32:20</td>\n",
              "      <td>6065.0</td>\n",
              "      <td>73.0</td>\n",
              "      <td>65.0</td>\n",
              "      <td>65.0</td>\n",
              "      <td>68.0</td>\n",
              "      <td>70.0</td>\n",
              "      <td>79.0</td>\n",
              "      <td>72.0</td>\n",
              "      <td>75.0</td>\n",
              "      <td>76.0</td>\n",
              "      <td>80.0</td>\n",
              "      <td>57.0</td>\n",
              "      <td>50.0</td>\n",
              "      <td>48.0</td>\n",
              "      <td>49.0</td>\n",
              "      <td>49.0</td>\n",
              "      <td>49.375</td>\n",
              "      <td>17.875</td>\n",
              "      <td>18.125</td>\n",
              "      <td>31.125</td>\n",
              "      <td>31.000</td>\n",
              "      <td>False</td>\n",
              "    </tr>\n",
              "  </tbody>\n",
              "</table>\n",
              "<p>2946 rows × 27 columns</p>\n",
              "</div>"
            ],
            "text/plain": [
              "      AcresBurned     Counties  ...  Humidity Day Five   Fire\n",
              "0        257314.0     Tuolumne  ...             33.000   True\n",
              "1         30274.0  Los Angeles  ...             39.625   True\n",
              "2         27531.0    Riverside  ...             27.000   True\n",
              "3         27440.0       Placer  ...             53.000   True\n",
              "4         22992.0       Fresno  ...             34.000   True\n",
              "...           ...          ...  ...                ...    ...\n",
              "2941          0.0    Riverside  ...             64.875  False\n",
              "2942          0.0       Nevada  ...             33.500  False\n",
              "2943          0.0         Yolo  ...             82.875  False\n",
              "2944          0.0    San Diego  ...             58.750  False\n",
              "2945          0.0    Riverside  ...             31.000  False\n",
              "\n",
              "[2946 rows x 27 columns]"
            ]
          },
          "metadata": {},
          "execution_count": 5
        }
      ]
    },
    {
      "cell_type": "code",
      "metadata": {
        "id": "O91q6-3NksWo"
      },
      "source": [
        "data = data.replace({\n",
        "    'Fire' : {\n",
        "        True : 1,\n",
        "        False : 0\n",
        "    }\n",
        "})"
      ],
      "execution_count": 6,
      "outputs": []
    },
    {
      "cell_type": "code",
      "metadata": {
        "id": "ZgvoKOaHj6iD",
        "colab": {
          "base_uri": "https://localhost:8080/"
        },
        "outputId": "8a48fe68-f0f5-44a1-b8f5-5e2dfc8416b2"
      },
      "source": [
        "all_features = list(data.columns)[6:21] + list(data.columns)[21:-1]\n",
        "target = ['Fire']\n",
        "all_features\n"
      ],
      "execution_count": 7,
      "outputs": [
        {
          "output_type": "execute_result",
          "data": {
            "text/plain": [
              "['Temp Day One',\n",
              " 'Temp Day Two',\n",
              " 'Temp Day Three',\n",
              " 'Temp Day Four',\n",
              " 'Temp Day Five',\n",
              " 'MaxTemp Day One',\n",
              " 'MaxTemp Day Two',\n",
              " 'MaxTemp Day Three',\n",
              " 'MaxTemp Day Four',\n",
              " 'MaxTemp Day Five',\n",
              " 'MinTemp Day One',\n",
              " 'MinTemp Day Two',\n",
              " 'MinTemp Day Three',\n",
              " 'MinTemp Day Four',\n",
              " 'MinTemp Day Five',\n",
              " 'Humidity Day One',\n",
              " 'Humidity Day Two',\n",
              " 'Humidity Day Three',\n",
              " 'Humidity Day Four',\n",
              " 'Humidity Day Five']"
            ]
          },
          "metadata": {},
          "execution_count": 7
        }
      ]
    },
    {
      "cell_type": "code",
      "metadata": {
        "id": "4qteaKNCKo54"
      },
      "source": [
        ""
      ],
      "execution_count": 7,
      "outputs": []
    },
    {
      "cell_type": "markdown",
      "metadata": {
        "id": "xKtcM6hAmoHs"
      },
      "source": [
        "#**Model Training**\n",
        "\n"
      ]
    },
    {
      "cell_type": "markdown",
      "metadata": {
        "id": "fhr50pb-K3E6"
      },
      "source": [
        "### Base approach"
      ]
    },
    {
      "cell_type": "code",
      "metadata": {
        "id": "-oocBbZkqopU"
      },
      "source": [
        "class ModelsClass:\n",
        "  def __init__(self, X, y):\n",
        "    self.X = data[X].values\n",
        "    self.y = data[y].values\n",
        "    print(X)\n",
        "\n",
        "  def logisticReg(self):\n",
        "    X_train, X_test, y_train, y_test = train_test_split(self.X, self.y, test_size=0.33)\n",
        "\n",
        "    logreg = LogisticRegression(random_state=20191016, solver='lbfgs', max_iter= 1000)\n",
        "\n",
        "    logreg.fit(X_train, y_train.ravel())\n",
        "    self.score(X_test, y_test, logreg)\n",
        "\n",
        "  def logisticRegNormal(self):\n",
        "    scaler = StandardScaler()\n",
        "    scaled_train_features = scaler.fit_transform(self.X)\n",
        "\n",
        "    X_train, X_test, y_train, y_test = train_test_split(scaled_train_features, self.y, test_size=0.33)\n",
        "\n",
        "    logreg = LogisticRegression(random_state=20191016, solver='lbfgs', max_iter= 1000)\n",
        "\n",
        "    logreg.fit(X_train, y_train.ravel())\n",
        "    self.score(X_test, y_test, logreg)\n",
        "  \n",
        "  def RandomForest(self):\n",
        "    X_train, X_test, y_train, y_test = train_test_split(self.X, self.y, test_size=0.50)\n",
        "\n",
        "    random = RandomForestClassifier()\n",
        "\n",
        "    random.fit(X_train, y_train.ravel())\n",
        "    self.score(X_test, y_test, random)\n",
        "\n",
        "  def svc(self):\n",
        "    X_train, X_test, y_train, y_test = train_test_split(self.X, self.y, test_size=0.50)\n",
        "\n",
        "    svc = SVC()\n",
        "\n",
        "    svc.fit(X_train, y_train.ravel())\n",
        "    self.score(X_test, y_test, svc)\n",
        "\n",
        "  def score(self, a, b, model):\n",
        "    j = 0.000\n",
        "    for i in range(50):\n",
        "      j += model.score(a, b)\n",
        "    j = j / 50\n",
        "    print(\"The average score after running 50 times is : {avg:.2f}%\".format(avg = (j * 100)))"
      ],
      "execution_count": 8,
      "outputs": []
    },
    {
      "cell_type": "code",
      "metadata": {
        "id": "-u40G2t4qv_7",
        "colab": {
          "base_uri": "https://localhost:8080/"
        },
        "outputId": "432b8a6f-5e96-448c-8b6a-22df37780f9f"
      },
      "source": [
        "a = ModelsClass(all_features, target)"
      ],
      "execution_count": 9,
      "outputs": [
        {
          "output_type": "stream",
          "name": "stdout",
          "text": [
            "['Temp Day One', 'Temp Day Two', 'Temp Day Three', 'Temp Day Four', 'Temp Day Five', 'MaxTemp Day One', 'MaxTemp Day Two', 'MaxTemp Day Three', 'MaxTemp Day Four', 'MaxTemp Day Five', 'MinTemp Day One', 'MinTemp Day Two', 'MinTemp Day Three', 'MinTemp Day Four', 'MinTemp Day Five', 'Humidity Day One', 'Humidity Day Two', 'Humidity Day Three', 'Humidity Day Four', 'Humidity Day Five']\n"
          ]
        }
      ]
    },
    {
      "cell_type": "code",
      "metadata": {
        "colab": {
          "base_uri": "https://localhost:8080/"
        },
        "id": "J99aQrOT2yPR",
        "outputId": "a1ea91ff-c66e-4672-a888-825de862114a"
      },
      "source": [
        "a.logisticReg()"
      ],
      "execution_count": 10,
      "outputs": [
        {
          "output_type": "stream",
          "name": "stdout",
          "text": [
            "The average score after running 50 times is : 56.32%\n"
          ]
        }
      ]
    },
    {
      "cell_type": "markdown",
      "metadata": {
        "id": "TH644SUVtCD3"
      },
      "source": [
        "*Let's try normalizing the data and see if the accuracy changes.*"
      ]
    },
    {
      "cell_type": "code",
      "metadata": {
        "colab": {
          "base_uri": "https://localhost:8080/"
        },
        "id": "RgtYHgQpzICi",
        "outputId": "24d9bf9e-d6a1-4196-c080-f8f007c0a2b9"
      },
      "source": [
        "a.logisticRegNormal()"
      ],
      "execution_count": 11,
      "outputs": [
        {
          "output_type": "stream",
          "name": "stdout",
          "text": [
            "The average score after running 50 times is : 58.27%\n"
          ]
        }
      ]
    },
    {
      "cell_type": "markdown",
      "metadata": {
        "id": "MgOSnnyv3DiJ"
      },
      "source": [
        "**The accuracy seems to be the same. So let's maybe try a different model and see the result**"
      ]
    },
    {
      "cell_type": "markdown",
      "metadata": {
        "id": "QZZH_DdWeC8a"
      },
      "source": [
        "*Random Forest Classifier*"
      ]
    },
    {
      "cell_type": "code",
      "metadata": {
        "id": "xegnXHbd3BjL",
        "colab": {
          "base_uri": "https://localhost:8080/"
        },
        "outputId": "7d03ab3c-ae64-45b8-811a-18d7849f9aea"
      },
      "source": [
        "a.RandomForest()"
      ],
      "execution_count": 12,
      "outputs": [
        {
          "output_type": "stream",
          "name": "stdout",
          "text": [
            "The average score after running 50 times is : 57.37%\n"
          ]
        }
      ]
    },
    {
      "cell_type": "markdown",
      "metadata": {
        "id": "l5RObXTJeHFh"
      },
      "source": [
        "*Support Vector Classifier*"
      ]
    },
    {
      "cell_type": "code",
      "metadata": {
        "colab": {
          "base_uri": "https://localhost:8080/"
        },
        "id": "Bme3wzNudH5i",
        "outputId": "371146dd-2228-4a99-a26a-7b8a8a4cca22"
      },
      "source": [
        "a.svc()"
      ],
      "execution_count": 13,
      "outputs": [
        {
          "output_type": "stream",
          "name": "stdout",
          "text": [
            "The average score after running 50 times is : 56.48%\n"
          ]
        }
      ]
    },
    {
      "cell_type": "markdown",
      "metadata": {
        "id": "phlRg_9cdxz8"
      },
      "source": [
        "**The accuracy did not change even when we tried different models. This means that we need to modify our features.** \\\\\n",
        "*Note that if we increase the training dataset size the accuracy of models like the SVC does increase*"
      ]
    },
    {
      "cell_type": "markdown",
      "metadata": {
        "id": "4u-6M8FEfkSB"
      },
      "source": [
        "## Approach #1"
      ]
    },
    {
      "cell_type": "markdown",
      "metadata": {
        "id": "bXfnZje2fqa2"
      },
      "source": [
        "*Instead of using all the value of the features let us look at the averages.*"
      ]
    },
    {
      "cell_type": "code",
      "metadata": {
        "id": "iPfHeSIOgX28"
      },
      "source": [
        "data['tmp avg'] = (data[\"Temp Day One\"] + data['Temp Day Two'] + data['Temp Day Three'] + data['Temp Day Four'] \n",
        "                   + data['Temp Day Five'])/5\n",
        "\n",
        "data['tmpMax avg'] = (data[\"MaxTemp Day One\"] + data['MaxTemp Day Two'] + data['MaxTemp Day Three'] + data['MaxTemp Day Four'] \n",
        "                   + data['MaxTemp Day Five'])/5\n",
        "\n",
        "data['tmpMin avg'] = (data[\"MinTemp Day One\"] + data['MinTemp Day Two'] + data['MinTemp Day Three'] + data['MinTemp Day Four'] \n",
        "                   + data['MinTemp Day Five'])/5\n"
      ],
      "execution_count": 14,
      "outputs": []
    },
    {
      "cell_type": "code",
      "metadata": {
        "id": "NLvxgv1pdt06"
      },
      "source": [
        "data['hum avg'] = (data[\"Humidity Day One\"] + data['Humidity Day Two'] + data['Humidity Day Three'] + data['Humidity Day Four'] + data['Humidity Day Five'])/5"
      ],
      "execution_count": 15,
      "outputs": []
    },
    {
      "cell_type": "code",
      "metadata": {
        "id": "fGAa3J6NhULQ"
      },
      "source": [
        "all_features = list(data.columns)[27:]"
      ],
      "execution_count": 16,
      "outputs": []
    },
    {
      "cell_type": "code",
      "metadata": {
        "colab": {
          "base_uri": "https://localhost:8080/"
        },
        "id": "Ev0_g3j9hUHv",
        "outputId": "54f94a00-3dfc-4298-f5a8-4d6fe91af55d"
      },
      "source": [
        "b = ModelsClass(all_features, target)"
      ],
      "execution_count": 17,
      "outputs": [
        {
          "output_type": "stream",
          "name": "stdout",
          "text": [
            "['tmp avg', 'tmpMax avg', 'tmpMin avg', 'hum avg']\n"
          ]
        }
      ]
    },
    {
      "cell_type": "code",
      "metadata": {
        "colab": {
          "base_uri": "https://localhost:8080/"
        },
        "id": "L6xRGFzIhUEW",
        "outputId": "0b22a8f7-a6d3-4d18-c69a-8a277f7792e9"
      },
      "source": [
        "b.logisticReg()"
      ],
      "execution_count": 18,
      "outputs": [
        {
          "output_type": "stream",
          "name": "stdout",
          "text": [
            "The average score after running 50 times is : 53.85%\n"
          ]
        }
      ]
    },
    {
      "cell_type": "code",
      "metadata": {
        "colab": {
          "base_uri": "https://localhost:8080/"
        },
        "id": "Q2cR1X_biR-B",
        "outputId": "210b4655-7477-4871-c71b-4c7d877c5348"
      },
      "source": [
        "b.logisticRegNormal()"
      ],
      "execution_count": 19,
      "outputs": [
        {
          "output_type": "stream",
          "name": "stdout",
          "text": [
            "The average score after running 50 times is : 55.91%\n"
          ]
        }
      ]
    },
    {
      "cell_type": "code",
      "metadata": {
        "colab": {
          "base_uri": "https://localhost:8080/"
        },
        "id": "WMidN2VPiTDa",
        "outputId": "c97f9016-15bf-408e-c806-0eb0a85b9ace"
      },
      "source": [
        "b.RandomForest()"
      ],
      "execution_count": 20,
      "outputs": [
        {
          "output_type": "stream",
          "name": "stdout",
          "text": [
            "The average score after running 50 times is : 51.19%\n"
          ]
        }
      ]
    },
    {
      "cell_type": "code",
      "metadata": {
        "colab": {
          "base_uri": "https://localhost:8080/"
        },
        "id": "6WiDHv0viVW6",
        "outputId": "21226f0b-77ee-4d7b-f4dd-579cef342eb1"
      },
      "source": [
        "b.svc()"
      ],
      "execution_count": 21,
      "outputs": [
        {
          "output_type": "stream",
          "name": "stdout",
          "text": [
            "The average score after running 50 times is : 51.46%\n"
          ]
        }
      ]
    },
    {
      "cell_type": "markdown",
      "metadata": {
        "id": "fVVyxPPNiQai"
      },
      "source": [
        "*Using the averages does not change anything*"
      ]
    },
    {
      "cell_type": "markdown",
      "metadata": {
        "id": "1oalyQrau7Qu"
      },
      "source": [
        "#**Another Model**\n",
        "\n"
      ]
    },
    {
      "cell_type": "markdown",
      "metadata": {
        "id": "kQg2OZdpvJIV"
      },
      "source": [
        "First we will check if our dataset is ready to process without any missing values.If there is missing values we will take care of that for the accuracy of our model."
      ]
    },
    {
      "cell_type": "code",
      "metadata": {
        "id": "yBM4XCsQhT6R",
        "colab": {
          "base_uri": "https://localhost:8080/"
        },
        "outputId": "cfee3fe2-934d-4924-927f-155ccb06e343"
      },
      "source": [
        "data.isna().sum()"
      ],
      "execution_count": 22,
      "outputs": [
        {
          "output_type": "execute_result",
          "data": {
            "text/plain": [
              "AcresBurned           618\n",
              "Counties                0\n",
              "Latitude                0\n",
              "Longitude               0\n",
              "Started                 0\n",
              "FIPS                    8\n",
              "Temp Day One            0\n",
              "Temp Day Two            0\n",
              "Temp Day Three          0\n",
              "Temp Day Four           0\n",
              "Temp Day Five           0\n",
              "MaxTemp Day One         0\n",
              "MaxTemp Day Two         0\n",
              "MaxTemp Day Three       0\n",
              "MaxTemp Day Four        0\n",
              "MaxTemp Day Five        0\n",
              "MinTemp Day One         0\n",
              "MinTemp Day Two         0\n",
              "MinTemp Day Three       0\n",
              "MinTemp Day Four        0\n",
              "MinTemp Day Five        0\n",
              "Humidity Day One        0\n",
              "Humidity Day Two        0\n",
              "Humidity Day Three      0\n",
              "Humidity Day Four       0\n",
              "Humidity Day Five       0\n",
              "Fire                    0\n",
              "tmp avg                 0\n",
              "tmpMax avg              0\n",
              "tmpMin avg              0\n",
              "hum avg                 0\n",
              "dtype: int64"
            ]
          },
          "metadata": {},
          "execution_count": 22
        }
      ]
    },
    {
      "cell_type": "markdown",
      "metadata": {
        "id": "WjZts6KMv5Rz"
      },
      "source": [
        "**We are not considering acres_burned in our model. So we will not fill the 618 values. Other than that all of our data is numeric and there are no missing values, we should be able to build a machine learning model!***"
      ]
    },
    {
      "cell_type": "code",
      "metadata": {
        "colab": {
          "base_uri": "https://localhost:8080/"
        },
        "id": "NK3ucLVxzsXN",
        "outputId": "e8f86fd5-c4eb-4137-d020-cb4a673968c2"
      },
      "source": [
        "len(data)"
      ],
      "execution_count": 23,
      "outputs": [
        {
          "output_type": "execute_result",
          "data": {
            "text/plain": [
              "2946"
            ]
          },
          "metadata": {},
          "execution_count": 23
        }
      ]
    },
    {
      "cell_type": "markdown",
      "metadata": {
        "id": "jF8BI5hMUDol"
      },
      "source": [
        "Given **all_features** can we predict a **Fire**?"
      ]
    },
    {
      "cell_type": "code",
      "source": [
        "all_features = list(data.columns)[6:26]"
      ],
      "metadata": {
        "id": "AQvO19wErdJ1"
      },
      "execution_count": 24,
      "outputs": []
    },
    {
      "cell_type": "code",
      "metadata": {
        "id": "P0m6BjQEy7hh",
        "colab": {
          "base_uri": "https://localhost:8080/",
          "height": 478
        },
        "outputId": "a6799b7d-c49c-464e-83f3-1d81c8292da2"
      },
      "source": [
        "# lets make our training set (Split data into X and y)\n",
        "X = data[all_features]\n",
        "\n",
        "y = data[\"Fire\"]\n",
        "X"
      ],
      "execution_count": 25,
      "outputs": [
        {
          "output_type": "execute_result",
          "data": {
            "text/html": [
              "<div>\n",
              "<style scoped>\n",
              "    .dataframe tbody tr th:only-of-type {\n",
              "        vertical-align: middle;\n",
              "    }\n",
              "\n",
              "    .dataframe tbody tr th {\n",
              "        vertical-align: top;\n",
              "    }\n",
              "\n",
              "    .dataframe thead th {\n",
              "        text-align: right;\n",
              "    }\n",
              "</style>\n",
              "<table border=\"1\" class=\"dataframe\">\n",
              "  <thead>\n",
              "    <tr style=\"text-align: right;\">\n",
              "      <th></th>\n",
              "      <th>Temp Day One</th>\n",
              "      <th>Temp Day Two</th>\n",
              "      <th>Temp Day Three</th>\n",
              "      <th>Temp Day Four</th>\n",
              "      <th>Temp Day Five</th>\n",
              "      <th>MaxTemp Day One</th>\n",
              "      <th>MaxTemp Day Two</th>\n",
              "      <th>MaxTemp Day Three</th>\n",
              "      <th>MaxTemp Day Four</th>\n",
              "      <th>MaxTemp Day Five</th>\n",
              "      <th>MinTemp Day One</th>\n",
              "      <th>MinTemp Day Two</th>\n",
              "      <th>MinTemp Day Three</th>\n",
              "      <th>MinTemp Day Four</th>\n",
              "      <th>MinTemp Day Five</th>\n",
              "      <th>Humidity Day One</th>\n",
              "      <th>Humidity Day Two</th>\n",
              "      <th>Humidity Day Three</th>\n",
              "      <th>Humidity Day Four</th>\n",
              "      <th>Humidity Day Five</th>\n",
              "    </tr>\n",
              "  </thead>\n",
              "  <tbody>\n",
              "    <tr>\n",
              "      <th>0</th>\n",
              "      <td>74.0</td>\n",
              "      <td>78.0</td>\n",
              "      <td>79.0</td>\n",
              "      <td>79.0</td>\n",
              "      <td>80.0</td>\n",
              "      <td>83.0</td>\n",
              "      <td>87.0</td>\n",
              "      <td>88.0</td>\n",
              "      <td>88.0</td>\n",
              "      <td>89.0</td>\n",
              "      <td>50.0</td>\n",
              "      <td>52.0</td>\n",
              "      <td>52.0</td>\n",
              "      <td>52.0</td>\n",
              "      <td>54.0</td>\n",
              "      <td>38.000</td>\n",
              "      <td>33.000</td>\n",
              "      <td>34.000</td>\n",
              "      <td>35.125</td>\n",
              "      <td>33.000</td>\n",
              "    </tr>\n",
              "    <tr>\n",
              "      <th>1</th>\n",
              "      <td>72.0</td>\n",
              "      <td>72.0</td>\n",
              "      <td>75.0</td>\n",
              "      <td>73.0</td>\n",
              "      <td>78.0</td>\n",
              "      <td>82.0</td>\n",
              "      <td>82.0</td>\n",
              "      <td>86.0</td>\n",
              "      <td>83.0</td>\n",
              "      <td>87.0</td>\n",
              "      <td>42.0</td>\n",
              "      <td>43.0</td>\n",
              "      <td>45.0</td>\n",
              "      <td>46.0</td>\n",
              "      <td>47.0</td>\n",
              "      <td>46.000</td>\n",
              "      <td>46.500</td>\n",
              "      <td>40.625</td>\n",
              "      <td>53.875</td>\n",
              "      <td>39.625</td>\n",
              "    </tr>\n",
              "    <tr>\n",
              "      <th>2</th>\n",
              "      <td>82.0</td>\n",
              "      <td>77.0</td>\n",
              "      <td>79.0</td>\n",
              "      <td>82.0</td>\n",
              "      <td>84.0</td>\n",
              "      <td>88.0</td>\n",
              "      <td>82.0</td>\n",
              "      <td>84.0</td>\n",
              "      <td>88.0</td>\n",
              "      <td>90.0</td>\n",
              "      <td>66.0</td>\n",
              "      <td>65.0</td>\n",
              "      <td>65.0</td>\n",
              "      <td>66.0</td>\n",
              "      <td>68.0</td>\n",
              "      <td>34.750</td>\n",
              "      <td>51.375</td>\n",
              "      <td>48.375</td>\n",
              "      <td>27.875</td>\n",
              "      <td>27.000</td>\n",
              "    </tr>\n",
              "    <tr>\n",
              "      <th>3</th>\n",
              "      <td>74.0</td>\n",
              "      <td>73.0</td>\n",
              "      <td>68.0</td>\n",
              "      <td>67.0</td>\n",
              "      <td>67.0</td>\n",
              "      <td>85.0</td>\n",
              "      <td>83.0</td>\n",
              "      <td>77.0</td>\n",
              "      <td>77.0</td>\n",
              "      <td>78.0</td>\n",
              "      <td>45.0</td>\n",
              "      <td>44.0</td>\n",
              "      <td>45.0</td>\n",
              "      <td>41.0</td>\n",
              "      <td>40.0</td>\n",
              "      <td>44.625</td>\n",
              "      <td>42.750</td>\n",
              "      <td>53.125</td>\n",
              "      <td>56.250</td>\n",
              "      <td>53.000</td>\n",
              "    </tr>\n",
              "    <tr>\n",
              "      <th>4</th>\n",
              "      <td>68.0</td>\n",
              "      <td>71.0</td>\n",
              "      <td>74.0</td>\n",
              "      <td>75.0</td>\n",
              "      <td>74.0</td>\n",
              "      <td>76.0</td>\n",
              "      <td>80.0</td>\n",
              "      <td>82.0</td>\n",
              "      <td>84.0</td>\n",
              "      <td>82.0</td>\n",
              "      <td>46.0</td>\n",
              "      <td>52.0</td>\n",
              "      <td>55.0</td>\n",
              "      <td>57.0</td>\n",
              "      <td>54.0</td>\n",
              "      <td>29.375</td>\n",
              "      <td>28.125</td>\n",
              "      <td>27.250</td>\n",
              "      <td>25.000</td>\n",
              "      <td>34.000</td>\n",
              "    </tr>\n",
              "    <tr>\n",
              "      <th>...</th>\n",
              "      <td>...</td>\n",
              "      <td>...</td>\n",
              "      <td>...</td>\n",
              "      <td>...</td>\n",
              "      <td>...</td>\n",
              "      <td>...</td>\n",
              "      <td>...</td>\n",
              "      <td>...</td>\n",
              "      <td>...</td>\n",
              "      <td>...</td>\n",
              "      <td>...</td>\n",
              "      <td>...</td>\n",
              "      <td>...</td>\n",
              "      <td>...</td>\n",
              "      <td>...</td>\n",
              "      <td>...</td>\n",
              "      <td>...</td>\n",
              "      <td>...</td>\n",
              "      <td>...</td>\n",
              "      <td>...</td>\n",
              "    </tr>\n",
              "    <tr>\n",
              "      <th>2941</th>\n",
              "      <td>70.0</td>\n",
              "      <td>69.0</td>\n",
              "      <td>77.0</td>\n",
              "      <td>65.0</td>\n",
              "      <td>71.0</td>\n",
              "      <td>74.0</td>\n",
              "      <td>74.0</td>\n",
              "      <td>85.0</td>\n",
              "      <td>67.0</td>\n",
              "      <td>78.0</td>\n",
              "      <td>63.0</td>\n",
              "      <td>63.0</td>\n",
              "      <td>69.0</td>\n",
              "      <td>64.0</td>\n",
              "      <td>64.0</td>\n",
              "      <td>59.500</td>\n",
              "      <td>56.375</td>\n",
              "      <td>48.625</td>\n",
              "      <td>73.750</td>\n",
              "      <td>64.875</td>\n",
              "    </tr>\n",
              "    <tr>\n",
              "      <th>2942</th>\n",
              "      <td>73.0</td>\n",
              "      <td>79.0</td>\n",
              "      <td>87.0</td>\n",
              "      <td>86.0</td>\n",
              "      <td>84.0</td>\n",
              "      <td>79.0</td>\n",
              "      <td>86.0</td>\n",
              "      <td>96.0</td>\n",
              "      <td>93.0</td>\n",
              "      <td>90.0</td>\n",
              "      <td>57.0</td>\n",
              "      <td>58.0</td>\n",
              "      <td>67.0</td>\n",
              "      <td>69.0</td>\n",
              "      <td>66.0</td>\n",
              "      <td>39.250</td>\n",
              "      <td>37.875</td>\n",
              "      <td>27.250</td>\n",
              "      <td>27.375</td>\n",
              "      <td>33.500</td>\n",
              "    </tr>\n",
              "    <tr>\n",
              "      <th>2943</th>\n",
              "      <td>58.0</td>\n",
              "      <td>58.0</td>\n",
              "      <td>55.0</td>\n",
              "      <td>59.0</td>\n",
              "      <td>55.0</td>\n",
              "      <td>64.0</td>\n",
              "      <td>64.0</td>\n",
              "      <td>57.0</td>\n",
              "      <td>63.0</td>\n",
              "      <td>57.0</td>\n",
              "      <td>50.0</td>\n",
              "      <td>50.0</td>\n",
              "      <td>51.0</td>\n",
              "      <td>53.0</td>\n",
              "      <td>51.0</td>\n",
              "      <td>64.250</td>\n",
              "      <td>63.625</td>\n",
              "      <td>86.000</td>\n",
              "      <td>83.875</td>\n",
              "      <td>82.875</td>\n",
              "    </tr>\n",
              "    <tr>\n",
              "      <th>2944</th>\n",
              "      <td>67.0</td>\n",
              "      <td>68.0</td>\n",
              "      <td>71.0</td>\n",
              "      <td>71.0</td>\n",
              "      <td>77.0</td>\n",
              "      <td>72.0</td>\n",
              "      <td>73.0</td>\n",
              "      <td>75.0</td>\n",
              "      <td>76.0</td>\n",
              "      <td>82.0</td>\n",
              "      <td>60.0</td>\n",
              "      <td>60.0</td>\n",
              "      <td>58.0</td>\n",
              "      <td>62.0</td>\n",
              "      <td>65.0</td>\n",
              "      <td>76.625</td>\n",
              "      <td>79.125</td>\n",
              "      <td>79.000</td>\n",
              "      <td>74.500</td>\n",
              "      <td>58.750</td>\n",
              "    </tr>\n",
              "    <tr>\n",
              "      <th>2945</th>\n",
              "      <td>73.0</td>\n",
              "      <td>65.0</td>\n",
              "      <td>65.0</td>\n",
              "      <td>68.0</td>\n",
              "      <td>70.0</td>\n",
              "      <td>79.0</td>\n",
              "      <td>72.0</td>\n",
              "      <td>75.0</td>\n",
              "      <td>76.0</td>\n",
              "      <td>80.0</td>\n",
              "      <td>57.0</td>\n",
              "      <td>50.0</td>\n",
              "      <td>48.0</td>\n",
              "      <td>49.0</td>\n",
              "      <td>49.0</td>\n",
              "      <td>49.375</td>\n",
              "      <td>17.875</td>\n",
              "      <td>18.125</td>\n",
              "      <td>31.125</td>\n",
              "      <td>31.000</td>\n",
              "    </tr>\n",
              "  </tbody>\n",
              "</table>\n",
              "<p>2946 rows × 20 columns</p>\n",
              "</div>"
            ],
            "text/plain": [
              "      Temp Day One  Temp Day Two  ...  Humidity Day Four  Humidity Day Five\n",
              "0             74.0          78.0  ...             35.125             33.000\n",
              "1             72.0          72.0  ...             53.875             39.625\n",
              "2             82.0          77.0  ...             27.875             27.000\n",
              "3             74.0          73.0  ...             56.250             53.000\n",
              "4             68.0          71.0  ...             25.000             34.000\n",
              "...            ...           ...  ...                ...                ...\n",
              "2941          70.0          69.0  ...             73.750             64.875\n",
              "2942          73.0          79.0  ...             27.375             33.500\n",
              "2943          58.0          58.0  ...             83.875             82.875\n",
              "2944          67.0          68.0  ...             74.500             58.750\n",
              "2945          73.0          65.0  ...             31.125             31.000\n",
              "\n",
              "[2946 rows x 20 columns]"
            ]
          },
          "metadata": {},
          "execution_count": 25
        }
      ]
    },
    {
      "cell_type": "code",
      "metadata": {
        "id": "2SDWkjlm5p4p"
      },
      "source": [
        "# Split data into train and test sets\n",
        "np.random.seed(42)\n",
        "\n",
        "# Split into train & test set\n",
        "X_train, X_test, y_train, y_test = train_test_split(X,\n",
        "                                                    y,\n",
        "                                                    test_size=0.2)"
      ],
      "execution_count": 26,
      "outputs": []
    },
    {
      "cell_type": "code",
      "metadata": {
        "id": "EIvIgoQ16Aaw"
      },
      "source": [
        "# let's Put all our models in a dictionary\n",
        "models = {\"Logistic Regression\": LogisticRegression(),\n",
        "          \"KNN\": KNeighborsClassifier(),\n",
        "          \"Random Forest\": RandomForestClassifier()}\n",
        "\n",
        "def fit_and_score(models, X_train, X_test, y_train, y_test):\n",
        "    np.random.seed(42)\n",
        "    # We will make a dictionary to keep model scores\n",
        "    model_scores = {}\n",
        "    # Then we will loop through models\n",
        "    for name, model in models.items():\n",
        "        # Try to fit the model to the data\n",
        "        model.fit(X_train, y_train)\n",
        "        # FInally the evaluate of the model and append its score to model_scores\n",
        "        model_scores[name] = model.score(X_test, y_test)\n",
        "    return model_scores\n",
        "\n"
      ],
      "execution_count": 27,
      "outputs": []
    },
    {
      "cell_type": "code",
      "metadata": {
        "colab": {
          "base_uri": "https://localhost:8080/"
        },
        "id": "FEuiYtim6WJK",
        "outputId": "fd12d17e-93ba-468f-cf0f-26409de4e8e5"
      },
      "source": [
        "model_scores = fit_and_score(models=models,\n",
        "                             X_train=X_train,\n",
        "                             X_test=X_test,\n",
        "                             y_train=y_train,\n",
        "                             y_test=y_test)\n",
        "\n",
        "model_scores"
      ],
      "execution_count": 28,
      "outputs": [
        {
          "output_type": "stream",
          "name": "stderr",
          "text": [
            "/usr/local/lib/python3.7/dist-packages/sklearn/linear_model/_logistic.py:818: ConvergenceWarning: lbfgs failed to converge (status=1):\n",
            "STOP: TOTAL NO. of ITERATIONS REACHED LIMIT.\n",
            "\n",
            "Increase the number of iterations (max_iter) or scale the data as shown in:\n",
            "    https://scikit-learn.org/stable/modules/preprocessing.html\n",
            "Please also refer to the documentation for alternative solver options:\n",
            "    https://scikit-learn.org/stable/modules/linear_model.html#logistic-regression\n",
            "  extra_warning_msg=_LOGISTIC_SOLVER_CONVERGENCE_MSG,\n"
          ]
        },
        {
          "output_type": "execute_result",
          "data": {
            "text/plain": [
              "{'KNN': 0.5576271186440678,\n",
              " 'Logistic Regression': 0.5440677966101695,\n",
              " 'Random Forest': 0.5677966101694916}"
            ]
          },
          "metadata": {},
          "execution_count": 28
        }
      ]
    },
    {
      "cell_type": "markdown",
      "metadata": {
        "id": "peasyEXX7Moy"
      },
      "source": [
        "Above we have got our data split into training and test sets, it's time to build a machine learning model to find the patterns on the training set and we will use the patterns on the test set.\n",
        "We have looked at three models \n",
        "\n",
        "\n",
        "*   Logistic Regression\n",
        "*   K-Nearest Neighbours Classifier\n",
        "*   Random Forest Classifier   \n",
        "\n",
        "Here is the result: \n",
        "1.   KNN: 0.5576271186440678\n",
        "2.   Logistic Regression:0.5440677966101695  \n",
        "3.   Random Forest': 0.5677966101694916\n",
        "\n",
        "\n",
        "---\n",
        "\n",
        "\n",
        "\n",
        "---\n",
        "\n"
      ]
    },
    {
      "cell_type": "markdown",
      "metadata": {
        "id": "rHpb8pmX5mPW"
      },
      "source": [
        "Now we will try to otimize the KNN model which has approx **55.7%** accuracy.\n",
        "\n",
        "From the result we can see that the Random Forest Classifier has got the highest score approx **57%**.We can Create a visulaization to investigate the result.\n"
      ]
    },
    {
      "cell_type": "markdown",
      "metadata": {
        "id": "Ws0EC1GW6zdS"
      },
      "source": [
        "#**Model Comparison and Optimization**"
      ]
    },
    {
      "cell_type": "code",
      "metadata": {
        "colab": {
          "base_uri": "https://localhost:8080/",
          "height": 443
        },
        "id": "9TTl1WNP65e-",
        "outputId": "15ecbb10-5722-4160-c1a9-99c7cbcdb71c"
      },
      "source": [
        "model_compare = pd.DataFrame(model_scores, index=[\"Model Accuracy\"])\n",
        "model_compare.plot.bar(figsize=(10, 6));\n",
        "\n",
        "\n"
      ],
      "execution_count": 29,
      "outputs": [
        {
          "output_type": "display_data",
          "data": {
            "image/png": "[encoded data removed]",
            "text/plain": [
              "<Figure size 720x432 with 1 Axes>"
            ]
          },
          "metadata": {
            "needs_background": "light"
          }
        }
      ]
    },
    {
      "cell_type": "markdown",
      "metadata": {
        "id": "6ze3_meK8O4j"
      },
      "source": [
        "### Now we've got a  model running. Let's look at tuning methods, We would want to better our KNN model which showed **55.76%** accuracy."
      ]
    },
    {
      "cell_type": "code",
      "metadata": {
        "id": "bTAC59T666FN"
      },
      "source": [
        "train_scores = []\n",
        "test_scores = []\n",
        "\n",
        "# Create a list of differnt values for n_neighbors\n",
        "neighbors = range(1, 21)\n",
        "\n",
        "# Setup KNN instance\n",
        "knn = KNeighborsClassifier()\n",
        "\n",
        "# Loop through different n_neighbors\n",
        "for i in neighbors:\n",
        "    knn.set_params(n_neighbors=i)\n",
        "    knn.fit(X_train, y_train)\n",
        "    \n",
        "    # Update the training scores list\n",
        "    train_scores.append(knn.score(X_train, y_train))\n",
        "    \n",
        "    # Update the test scores list\n",
        "    test_scores.append(knn.score(X_test, y_test))"
      ],
      "execution_count": 30,
      "outputs": []
    },
    {
      "cell_type": "code",
      "metadata": {
        "colab": {
          "base_uri": "https://localhost:8080/"
        },
        "id": "VQ7tnTGG72Re",
        "outputId": "c56b6bc9-b6ab-49fd-e097-71cfe37b049d"
      },
      "source": [
        "train_scores"
      ],
      "execution_count": 31,
      "outputs": [
        {
          "output_type": "execute_result",
          "data": {
            "text/plain": [
              "[0.9987266553480475,\n",
              " 0.7792869269949066,\n",
              " 0.7758913412563667,\n",
              " 0.7126485568760611,\n",
              " 0.7079796264855688,\n",
              " 0.6922750424448217,\n",
              " 0.6842105263157895,\n",
              " 0.6659592529711376,\n",
              " 0.6740237691001698,\n",
              " 0.6540747028862479,\n",
              " 0.6587436332767402,\n",
              " 0.6502546689303905,\n",
              " 0.6460101867572157,\n",
              " 0.6464346349745331,\n",
              " 0.6464346349745331,\n",
              " 0.6417657045840407,\n",
              " 0.6421901528013583,\n",
              " 0.6337011884550084,\n",
              " 0.6404923599320883,\n",
              " 0.6358234295415959]"
            ]
          },
          "metadata": {},
          "execution_count": 31
        }
      ]
    },
    {
      "cell_type": "code",
      "metadata": {
        "colab": {
          "base_uri": "https://localhost:8080/"
        },
        "id": "WElrVjmV79T_",
        "outputId": "dff0f72d-0ff2-4e22-f1c3-41db71b539fe"
      },
      "source": [
        "test_scores"
      ],
      "execution_count": 32,
      "outputs": [
        {
          "output_type": "execute_result",
          "data": {
            "text/plain": [
              "[0.5474576271186441,\n",
              " 0.5779661016949152,\n",
              " 0.5711864406779661,\n",
              " 0.5525423728813559,\n",
              " 0.5576271186440678,\n",
              " 0.559322033898305,\n",
              " 0.5576271186440678,\n",
              " 0.5644067796610169,\n",
              " 0.559322033898305,\n",
              " 0.5542372881355933,\n",
              " 0.559322033898305,\n",
              " 0.5423728813559322,\n",
              " 0.5576271186440678,\n",
              " 0.559322033898305,\n",
              " 0.576271186440678,\n",
              " 0.5525423728813559,\n",
              " 0.5644067796610169,\n",
              " 0.5406779661016949,\n",
              " 0.559322033898305,\n",
              " 0.5525423728813559]"
            ]
          },
          "metadata": {},
          "execution_count": 32
        }
      ]
    },
    {
      "cell_type": "code",
      "metadata": {
        "colab": {
          "base_uri": "https://localhost:8080/",
          "height": 297
        },
        "id": "HN1GglyE7_um",
        "outputId": "2669cbd5-3037-4744-f050-04e677729e90"
      },
      "source": [
        "plt.plot(neighbors, train_scores, label=\"Train score\")\n",
        "plt.plot(neighbors, test_scores, label=\"Test score\")\n",
        "plt.xticks(np.arange(1, 21, 1))\n",
        "plt.xlabel(\"Number of neighbors\")\n",
        "plt.ylabel(\"Our Model score\")\n",
        "plt.legend()\n",
        "\n",
        "print(f\"The Maximum KNN score on our test data: {max(test_scores)*100:.2f}%\")"
      ],
      "execution_count": 33,
      "outputs": [
        {
          "output_type": "stream",
          "name": "stdout",
          "text": [
            "The Maximum KNN score on our test data: 57.80%\n"
          ]
        },
        {
          "output_type": "display_data",
          "data": {
            "image/png": "[encoded data removed]",
            "text/plain": [
              "<Figure size 432x288 with 1 Axes>"
            ]
          },
          "metadata": {
            "needs_background": "light"
          }
        }
      ]
    },
    {
      "cell_type": "markdown",
      "metadata": {
        "id": "JZd8NKALEm-L"
      },
      "source": [
        "If we pay attention to out test score which is in orange line, the highest value is about in 2(number of neighbors). The default is 5 [KNN_Neighbors_Classifier](https://scikit-learn.org/stable/modules/generated/sklearn.neighbors.KNeighborsClassifier.html). we just did some hyperparameter tuning to better our KNN\n",
        " and the result improved from **55.76%** to **57.80%**. "
      ]
    },
    {
      "cell_type": "markdown",
      "metadata": {
        "id": "45SIaX9_AjmF"
      },
      "source": [
        "We're going to tune:\n",
        "**LogisticRegression()** which got the second highest score. In order to acheive that we are going to get hyperparameter grids setup for our  scored model and tune it using [RandomizedSearchCV](https://www.programcreek.com/python/example/91146/sklearn.model_selection.RandomizedSearchCV) and [Tuning _LogisticRegression](https://scikit-learn.org/stable/modules/generated/sklearn.linear_model.LogisticRegression.html). There's few hyperparameter we can tune, And we chose C from the documentation. \n"
      ]
    },
    {
      "cell_type": "markdown",
      "metadata": {
        "id": "DnyMdlO5p6tw"
      },
      "source": [
        "We will try to tune Random Forest Model.The function we used [RandomForestClassifier](https://scikit-learn.org/stable/modules/generated/sklearn.ensemble.RandomForestClassifier.html) and we are going to try hyperparameter tuning RandomizedSearchCV.\n",
        "\n",
        "\n",
        "\n"
      ]
    },
    {
      "cell_type": "markdown",
      "metadata": {
        "id": "Lz1Wy_f9el3q"
      },
      "source": [
        ""
      ]
    },
    {
      "cell_type": "code",
      "metadata": {
        "colab": {
          "base_uri": "https://localhost:8080/"
        },
        "id": "HWV0fF3tAer5",
        "outputId": "3ebf81ab-19c9-4d9e-8eb8-5efe13ffb171"
      },
      "source": [
        "rf_grid = {\n",
        "    'bootstrap': [True],\n",
        "    'max_depth': [80, 90, 100, 110],\n",
        "    'max_features': [2, 3],\n",
        "    'min_samples_leaf': [3, 4, 5],\n",
        "    'min_samples_split': [8, 10, 12],\n",
        "    'n_estimators': [100, 200, 300, 1000]\n",
        "}\n",
        "print(rf_grid)"
      ],
      "execution_count": 34,
      "outputs": [
        {
          "output_type": "stream",
          "name": "stdout",
          "text": [
            "{'bootstrap': [True], 'max_depth': [80, 90, 100, 110], 'max_features': [2, 3], 'min_samples_leaf': [3, 4, 5], 'min_samples_split': [8, 10, 12], 'n_estimators': [100, 200, 300, 1000]}\n"
          ]
        }
      ]
    },
    {
      "cell_type": "code",
      "metadata": {
        "colab": {
          "base_uri": "https://localhost:8080/"
        },
        "id": "gA1sADZNfM3U",
        "outputId": "afdfb786-8a06-45c0-c4c4-533a76ebfdb5"
      },
      "source": [
        "rf = RandomForestClassifier()\n",
        "# Setup random seed\n",
        "np.random.seed(42)\n",
        "# Random search of parameters, using 3(CV) to search across 100 different combinations.\n",
        "rf_model = RandomizedSearchCV(estimator = rf, \n",
        "                              param_distributions = rf_grid, \n",
        "                              n_iter = 100, \n",
        "                              cv = 3, \n",
        "                              verbose=2, \n",
        "                              random_state=42, \n",
        "                              n_jobs = -1)\n",
        "# Fit the random search model\n",
        "rf_model.fit(X_train, y_train)"
      ],
      "execution_count": 35,
      "outputs": [
        {
          "output_type": "stream",
          "name": "stdout",
          "text": [
            "Fitting 3 folds for each of 100 candidates, totalling 300 fits\n"
          ]
        },
        {
          "output_type": "execute_result",
          "data": {
            "text/plain": [
              "RandomizedSearchCV(cv=3, estimator=RandomForestClassifier(), n_iter=100,\n",
              "                   n_jobs=-1,\n",
              "                   param_distributions={'bootstrap': [True],\n",
              "                                        'max_depth': [80, 90, 100, 110],\n",
              "                                        'max_features': [2, 3],\n",
              "                                        'min_samples_leaf': [3, 4, 5],\n",
              "                                        'min_samples_split': [8, 10, 12],\n",
              "                                        'n_estimators': [100, 200, 300, 1000]},\n",
              "                   random_state=42, verbose=2)"
            ]
          },
          "metadata": {},
          "execution_count": 35
        }
      ]
    },
    {
      "cell_type": "code",
      "metadata": {
        "colab": {
          "base_uri": "https://localhost:8080/"
        },
        "id": "_o5H8XLjqQFo",
        "outputId": "0334b1fe-5df6-4a09-bb41-f79fba34f1cd"
      },
      "source": [
        "# Fit random hyperparameter \n",
        "rf_model.best_params_"
      ],
      "execution_count": 36,
      "outputs": [
        {
          "output_type": "execute_result",
          "data": {
            "text/plain": [
              "{'bootstrap': True,\n",
              " 'max_depth': 100,\n",
              " 'max_features': 2,\n",
              " 'min_samples_leaf': 5,\n",
              " 'min_samples_split': 10,\n",
              " 'n_estimators': 100}"
            ]
          },
          "metadata": {},
          "execution_count": 36
        }
      ]
    },
    {
      "cell_type": "code",
      "metadata": {
        "colab": {
          "base_uri": "https://localhost:8080/"
        },
        "id": "tgXlkOicazHn",
        "outputId": "7e40af1d-d9c4-4da1-a9f9-ab9b9b30ee07"
      },
      "source": [
        "# we will Evaluate best score of  the randomized search RandomForest model\n",
        "rf_model.best_score_"
      ],
      "execution_count": 37,
      "outputs": [
        {
          "output_type": "execute_result",
          "data": {
            "text/plain": [
              "0.5882876020377843"
            ]
          },
          "metadata": {},
          "execution_count": 37
        }
      ]
    },
    {
      "cell_type": "markdown",
      "source": [
        "### By just tuning the hyperparameters for RandomForest model we have seen a slight boost from **56%** to **59%**"
      ],
      "metadata": {
        "id": "xPfyUCbdz79P"
      }
    },
    {
      "cell_type": "markdown",
      "metadata": {
        "id": "W4xz4xsNtcME"
      },
      "source": [
        "Let's try to do the same with **`LogisticRegression Model`**\n",
        "\n"
      ]
    },
    {
      "cell_type": "code",
      "metadata": {
        "colab": {
          "base_uri": "https://localhost:8080/"
        },
        "id": "N6CYt6GItmpR",
        "outputId": "02be5606-c69e-4f6e-860a-d4c102721f32"
      },
      "source": [
        "logistic_regress_grid = {\"C\": np.logspace(-4, 4, 20),\n",
        "                \"solver\": [\"liblinear\"]}\n",
        "# Setup random seed\n",
        "np.random.seed(42)\n",
        "\n",
        "# hyperparameter search for LogisticRegression\n",
        "rs_logistic_regress = RandomizedSearchCV(LogisticRegression(),\n",
        "                                param_distributions=logistic_regress_grid,\n",
        "                                cv=5,\n",
        "                                n_iter=20,\n",
        "                                verbose=True)\n",
        "\n",
        "# Fit random hyperparameter search model\n",
        "rs_logistic_regress.fit(X_train, y_train);"
      ],
      "execution_count": 39,
      "outputs": [
        {
          "output_type": "stream",
          "name": "stdout",
          "text": [
            "Fitting 5 folds for each of 20 candidates, totalling 100 fits\n"
          ]
        }
      ]
    },
    {
      "cell_type": "code",
      "metadata": {
        "colab": {
          "base_uri": "https://localhost:8080/"
        },
        "id": "-6pbC01stnp_",
        "outputId": "e7bf6caa-2e38-44d7-d092-c8f65d060108"
      },
      "source": [
        "rs_logistic_regress.best_params_"
      ],
      "execution_count": 40,
      "outputs": [
        {
          "output_type": "execute_result",
          "data": {
            "text/plain": [
              "{'C': 0.615848211066026, 'solver': 'liblinear'}"
            ]
          },
          "metadata": {},
          "execution_count": 40
        }
      ]
    },
    {
      "cell_type": "code",
      "metadata": {
        "colab": {
          "base_uri": "https://localhost:8080/"
        },
        "id": "BCgobwB6tnzi",
        "outputId": "0b9a175c-9963-48a6-ad48-6420a4848662"
      },
      "source": [
        "rs_logistic_regress.score(X_test, y_test)"
      ],
      "execution_count": 41,
      "outputs": [
        {
          "output_type": "execute_result",
          "data": {
            "text/plain": [
              "0.5423728813559322"
            ]
          },
          "metadata": {},
          "execution_count": 41
        }
      ]
    },
    {
      "cell_type": "markdown",
      "metadata": {
        "id": "nBRdkp_yurEi"
      },
      "source": [
        "We can tune it using GridSearchCv too"
      ]
    },
    {
      "cell_type": "code",
      "metadata": {
        "colab": {
          "base_uri": "https://localhost:8080/"
        },
        "id": "2bJt98qqtn81",
        "outputId": "d5bbcfa2-b72a-4ccb-e27e-be1e9c408721"
      },
      "source": [
        "# Different LogisticRegression hyperparameters\n",
        "log_reg_grid = {\"C\": np.logspace(-4, 4, 20),\n",
        "                \"solver\": [\"liblinear\"]}\n",
        "\n",
        "# Setup grid hyperparameter search for LogisticRegression\n",
        "gs_log_reg = GridSearchCV(LogisticRegression(),\n",
        "                          param_grid=log_reg_grid,\n",
        "                          cv=5,\n",
        "                          verbose=True)\n",
        "gs_log_reg.fit(X_train, y_train);"
      ],
      "execution_count": 42,
      "outputs": [
        {
          "output_type": "stream",
          "name": "stdout",
          "text": [
            "Fitting 5 folds for each of 20 candidates, totalling 100 fits\n"
          ]
        }
      ]
    },
    {
      "cell_type": "code",
      "metadata": {
        "colab": {
          "base_uri": "https://localhost:8080/"
        },
        "id": "1HOvVhbNfM_V",
        "outputId": "5eb10c70-922a-4dcb-c023-4b33adbba456"
      },
      "source": [
        "# Check the best parameters\n",
        "gs_log_reg.best_params_"
      ],
      "execution_count": 44,
      "outputs": [
        {
          "output_type": "execute_result",
          "data": {
            "text/plain": [
              "{'C': 0.615848211066026, 'solver': 'liblinear'}"
            ]
          },
          "metadata": {},
          "execution_count": 44
        }
      ]
    },
    {
      "cell_type": "code",
      "metadata": {
        "colab": {
          "base_uri": "https://localhost:8080/"
        },
        "id": "3v4e8HLn4Inb",
        "outputId": "7e1642d0-2938-43b2-90d0-9003c3b583d7"
      },
      "source": [
        "gs_log_reg.bescore(X_test, y_test)"
      ],
      "execution_count": 45,
      "outputs": [
        {
          "output_type": "execute_result",
          "data": {
            "text/plain": [
              "0.5423728813559322"
            ]
          },
          "metadata": {},
          "execution_count": 45
        }
      ]
    },
    {
      "cell_type": "markdown",
      "metadata": {
        "id": "ITHYlEU34kTw"
      },
      "source": [
        "The above score using [GridSearchCV](https://scikit-learn.org/stable/modules/generated/sklearn.model_selection.GridSearchCV.html) is same as when we use [RandomizedSearchCV](https://machinelearningmastery.com/hyperparameter-optimization-with-random-search-and-grid-search/) for LogicticRegressionModel . But the score decreased when initially it was 54.4%. After the tuning it is 54.23%\n"
      ]
    },
    {
      "cell_type": "markdown",
      "metadata": {
        "id": "mPjid0bm2Vti"
      },
      "source": [
        ""
      ]
    },
    {
      "cell_type": "code",
      "source": [
        "# we will Create a new classifier with best parameters in our Regression model\n",
        "clf = LogisticRegression(C=0.615848211066026,\n",
        "                         solver=\"liblinear\")"
      ],
      "metadata": {
        "id": "Ea9rxsizKczI"
      },
      "execution_count": 55,
      "outputs": []
    },
    {
      "cell_type": "code",
      "source": [
        "# Cross-validated accuracy\n",
        "cv_acc = cross_val_score(clf,\n",
        "                         X,\n",
        "                         y,\n",
        "                         cv=5,\n",
        "                         scoring=\"accuracy\")\n",
        "cv_acc"
      ],
      "metadata": {
        "colab": {
          "base_uri": "https://localhost:8080/"
        },
        "id": "RqMDr-idMZ71",
        "outputId": "7635eba6-061f-46f8-b7e9-d3b4ad55197c"
      },
      "execution_count": 48,
      "outputs": [
        {
          "output_type": "execute_result",
          "data": {
            "text/plain": [
              "array([0.57288136, 0.57385399, 0.61629881, 0.55517827, 0.52122241])"
            ]
          },
          "metadata": {},
          "execution_count": 48
        }
      ]
    },
    {
      "cell_type": "code",
      "source": [
        "cv_acc = np.mean(cv_acc)\n",
        "cv_acc"
      ],
      "metadata": {
        "colab": {
          "base_uri": "https://localhost:8080/"
        },
        "id": "yzC6ZGUcMbd-",
        "outputId": "33eb03f9-84f5-458e-b3b2-fd24068efb63"
      },
      "execution_count": 49,
      "outputs": [
        {
          "output_type": "execute_result",
          "data": {
            "text/plain": [
              "0.5678869672815171"
            ]
          },
          "metadata": {},
          "execution_count": 49
        }
      ]
    },
    {
      "cell_type": "code",
      "source": [
        "# Cross-validated precision\n",
        "cv_precision = cross_val_score(clf,\n",
        "                         X,\n",
        "                         y,\n",
        "                         cv=5,\n",
        "                         scoring=\"precision\")\n",
        "cv_precision=np.mean(cv_precision)\n",
        "cv_precision"
      ],
      "metadata": {
        "colab": {
          "base_uri": "https://localhost:8080/"
        },
        "id": "3DjkKmMtMgax",
        "outputId": "0b1683e6-723d-46e7-c0a5-a035df2b3bd8"
      },
      "execution_count": 50,
      "outputs": [
        {
          "output_type": "execute_result",
          "data": {
            "text/plain": [
              "0.5650296140086487"
            ]
          },
          "metadata": {},
          "execution_count": 50
        }
      ]
    },
    {
      "cell_type": "code",
      "source": [
        "# Cross-validated recall\n",
        "cv_recall = cross_val_score(clf,\n",
        "                         X,\n",
        "                         y,\n",
        "                         cv=5,\n",
        "                         scoring=\"recall\")\n",
        "cv_recall = np.mean(cv_recall)\n",
        "cv_recall"
      ],
      "metadata": {
        "colab": {
          "base_uri": "https://localhost:8080/"
        },
        "id": "jOupbqzfMoNC",
        "outputId": "766dddda-37d6-4016-e71c-c975155b771a"
      },
      "execution_count": 51,
      "outputs": [
        {
          "output_type": "execute_result",
          "data": {
            "text/plain": [
              "0.5973965179292056"
            ]
          },
          "metadata": {},
          "execution_count": 51
        }
      ]
    },
    {
      "cell_type": "code",
      "source": [
        "# Cross-validated f1-score\n",
        "cv_f1 = cross_val_score(clf,\n",
        "                         X,\n",
        "                         y,\n",
        "                         cv=5,\n",
        "                         scoring=\"f1\")\n",
        "cv_f1 = np.mean(cv_f1)\n",
        "cv_f1"
      ],
      "metadata": {
        "colab": {
          "base_uri": "https://localhost:8080/"
        },
        "id": "KgAOFysQMt6R",
        "outputId": "846752a7-606f-440f-c550-1c37f9affe2b"
      },
      "execution_count": 52,
      "outputs": [
        {
          "output_type": "execute_result",
          "data": {
            "text/plain": [
              "0.5805969057759961"
            ]
          },
          "metadata": {},
          "execution_count": 52
        }
      ]
    },
    {
      "cell_type": "code",
      "source": [
        "# Visualize cross-validated metrics\n",
        "cv_metrics = pd.DataFrame({\"Accuracy\": cv_acc,\n",
        "                           \"Precision\": cv_precision,\n",
        "                           \"Recall\": cv_recall,\n",
        "                           \"F1\": cv_f1},\n",
        "                          index=[0])\n",
        "\n",
        "cv_metrics.T.plot.bar(title=\"Cross-validated classification metrics\",\n",
        "                      legend=False);"
      ],
      "metadata": {
        "colab": {
          "base_uri": "https://localhost:8080/",
          "height": 317
        },
        "id": "IxDOMv6LMu7B",
        "outputId": "aab817fb-59cc-444b-bac6-832d77508ea1"
      },
      "execution_count": 53,
      "outputs": [
        {
          "output_type": "display_data",
          "data": {
            "image/png": "[encoded data removed]",
            "text/plain": [
              "<Figure size 432x288 with 1 Axes>"
            ]
          },
          "metadata": {
            "needs_background": "light"
          }
        }
      ]
    },
    {
      "cell_type": "markdown",
      "metadata": {
        "id": "btvoHX7rCN38"
      },
      "source": [
        "#**Evaluating our tuned ML models**"
      ]
    },
    {
      "cell_type": "markdown",
      "metadata": {
        "id": "q9x1avu4OKNh"
      },
      "source": [
        " **In order to better understand these outcomes,  the purpose of our model is trying to predict if our collection of\n",
        "several weather parameters in real time i.e (all_features[temp,humidity etc]) sparks Fire Behavior. the positive outcome would be if the proportion of\n",
        "weather instances correctly predicted Fire, and understandably, the negative outcome would be if the weather instances does not predict the fire.**\n",
        "\n",
        "To make comparison and the evaluation of our trained model we set a prediction variable, y_pred and set our trained version of logictic regression model there and compare them with our test data which is y_test. "
      ]
    },
    {
      "cell_type": "markdown",
      "metadata": {
        "id": "XE95IquOzFs3"
      },
      "source": [
        "# We will evaluate our ML models using the below metrics:\n",
        "\n",
        "\n",
        "1.   ROC curve and AUC score \n",
        "2.   Confusion matrix \n",
        "3.   Classification report\n",
        "\n",
        "\n",
        "\n",
        "\n"
      ]
    },
    {
      "cell_type": "markdown",
      "metadata": {
        "id": "-Qt_RML9xTPk"
      },
      "source": [
        "**To check and visualize the performance of our model**, we will use the AUC (Area Under The Curve) ROC (Receiver Operating Characteristics) [AUC-ROC-curve](https://www.analyticsvidhya.com/blog/2020/06/auc-roc-curve-machine-learning/) curve evaluation metrics for checking performance. We will try to evaluate how our model is performing by comparing the true positive rate to the false positive rate using plot_roc_curve from Scikit-Learn which can help us create a ROC curve as well as calculate the (AUC) metric."
      ]
    },
    {
      "cell_type": "markdown",
      "metadata": {
        "id": "-19pIZA-RVJ0"
      },
      "source": [
        "## **ROC curve and AUC score**"
      ]
    },
    {
      "cell_type": "code",
      "metadata": {
        "colab": {
          "base_uri": "https://localhost:8080/"
        },
        "id": "AgyK_QJk4No6",
        "outputId": "bd41a3a9-a759-48a0-beb7-84f08e007565"
      },
      "source": [
        "#ROC curve and AUC score\n",
        "# Make preidctions on test data\n",
        "y_preds = rs_logistic_regress.predict(X_test)\n",
        "y_preds"
      ],
      "execution_count": 56,
      "outputs": [
        {
          "output_type": "execute_result",
          "data": {
            "text/plain": [
              "array([1, 0, 0, 1, 1, 0, 1, 0, 1, 0, 1, 0, 1, 1, 1, 0, 1, 1, 0, 1, 1, 0,\n",
              "       1, 1, 0, 1, 1, 1, 0, 0, 0, 1, 1, 0, 0, 1, 0, 0, 0, 1, 0, 0, 1, 0,\n",
              "       1, 0, 1, 0, 1, 0, 1, 1, 0, 1, 1, 1, 0, 1, 0, 1, 1, 0, 1, 1, 0, 1,\n",
              "       1, 1, 0, 1, 0, 0, 1, 1, 1, 1, 1, 0, 1, 0, 1, 1, 0, 0, 1, 1, 1, 1,\n",
              "       0, 1, 0, 1, 0, 0, 0, 1, 1, 1, 1, 0, 0, 0, 1, 0, 0, 1, 1, 0, 1, 1,\n",
              "       0, 0, 1, 1, 0, 0, 0, 1, 0, 1, 1, 1, 1, 0, 0, 0, 1, 0, 1, 0, 1, 0,\n",
              "       0, 0, 0, 1, 0, 1, 0, 0, 0, 1, 1, 1, 0, 0, 1, 0, 0, 0, 0, 0, 1, 1,\n",
              "       0, 1, 0, 1, 1, 0, 0, 1, 1, 0, 0, 1, 1, 1, 0, 1, 0, 0, 0, 1, 0, 0,\n",
              "       0, 1, 0, 0, 0, 1, 1, 0, 1, 0, 1, 1, 1, 1, 1, 0, 1, 0, 0, 0, 1, 0,\n",
              "       0, 1, 1, 1, 1, 1, 1, 1, 1, 0, 1, 0, 1, 0, 1, 0, 0, 0, 1, 0, 1, 1,\n",
              "       1, 0, 1, 0, 1, 1, 1, 0, 0, 1, 1, 0, 0, 0, 0, 1, 0, 0, 1, 1, 1, 0,\n",
              "       0, 0, 0, 1, 1, 0, 0, 0, 0, 1, 1, 0, 0, 1, 0, 0, 1, 1, 0, 1, 1, 0,\n",
              "       1, 0, 0, 1, 0, 0, 1, 1, 1, 1, 0, 0, 0, 0, 1, 1, 1, 1, 0, 0, 0, 1,\n",
              "       1, 0, 1, 1, 1, 1, 0, 0, 1, 1, 0, 0, 0, 0, 1, 0, 0, 0, 0, 0, 0, 1,\n",
              "       1, 0, 1, 0, 1, 1, 0, 0, 1, 1, 0, 0, 0, 0, 1, 0, 0, 0, 1, 1, 1, 1,\n",
              "       0, 0, 0, 1, 0, 1, 1, 0, 0, 1, 1, 0, 1, 1, 1, 0, 0, 1, 0, 1, 1, 0,\n",
              "       1, 1, 1, 0, 0, 0, 1, 0, 1, 1, 1, 0, 0, 1, 0, 0, 0, 1, 1, 0, 1, 1,\n",
              "       1, 0, 1, 1, 1, 1, 1, 1, 0, 0, 0, 0, 0, 0, 1, 1, 1, 1, 1, 1, 1, 0,\n",
              "       1, 0, 0, 1, 0, 0, 1, 0, 0, 0, 0, 0, 0, 1, 0, 0, 1, 0, 0, 1, 1, 0,\n",
              "       1, 1, 1, 0, 1, 1, 0, 1, 0, 1, 0, 1, 1, 0, 0, 0, 0, 0, 1, 1, 0, 1,\n",
              "       1, 1, 1, 0, 0, 0, 0, 0, 1, 0, 1, 1, 0, 1, 0, 0, 0, 1, 0, 0, 0, 0,\n",
              "       0, 1, 1, 0, 0, 1, 1, 0, 0, 1, 0, 0, 1, 0, 0, 1, 1, 1, 0, 0, 1, 0,\n",
              "       0, 0, 0, 0, 1, 0, 0, 1, 1, 1, 0, 1, 1, 0, 0, 0, 1, 0, 1, 1, 0, 0,\n",
              "       1, 1, 0, 0, 1, 1, 0, 1, 0, 0, 1, 1, 0, 1, 1, 1, 0, 1, 1, 1, 0, 1,\n",
              "       1, 1, 0, 1, 1, 1, 1, 0, 1, 1, 0, 0, 0, 1, 1, 0, 0, 0, 1, 1, 1, 1,\n",
              "       1, 0, 0, 1, 1, 1, 1, 0, 0, 1, 0, 1, 0, 0, 1, 0, 1, 1, 1, 0, 1, 1,\n",
              "       1, 0, 0, 0, 1, 0, 1, 1, 0, 0, 1, 0, 1, 1, 1, 1, 1, 1])"
            ]
          },
          "metadata": {},
          "execution_count": 56
        }
      ]
    },
    {
      "cell_type": "markdown",
      "metadata": {
        "id": "6JC4azsl9nCB"
      },
      "source": [
        ""
      ]
    },
    {
      "cell_type": "code",
      "metadata": {
        "colab": {
          "base_uri": "https://localhost:8080/"
        },
        "id": "nkWy_wE64VTT",
        "outputId": "f0e3ce13-f47b-4be5-beb1-d88b3ac59fd6"
      },
      "source": [
        "y_test"
      ],
      "execution_count": 57,
      "outputs": [
        {
          "output_type": "execute_result",
          "data": {
            "text/plain": [
              "565     1\n",
              "1220    1\n",
              "1677    0\n",
              "1577    0\n",
              "2833    0\n",
              "       ..\n",
              "1255    1\n",
              "2560    0\n",
              "2935    0\n",
              "1412    1\n",
              "685     1\n",
              "Name: Fire, Length: 590, dtype: int64"
            ]
          },
          "metadata": {},
          "execution_count": 57
        }
      ]
    },
    {
      "cell_type": "code",
      "metadata": {
        "colab": {
          "base_uri": "https://localhost:8080/",
          "height": 353
        },
        "id": "x7ECKMrLw6O7",
        "outputId": "b3c5406a-749d-45fb-9743-3f07862474f9"
      },
      "source": [
        "# Plot ROC curve and calculate AUC metric\n",
        "plot_roc_curve(rs_logistic_regress, X_test, y_test)"
      ],
      "execution_count": 59,
      "outputs": [
        {
          "output_type": "stream",
          "name": "stderr",
          "text": [
            "/usr/local/lib/python3.7/dist-packages/sklearn/utils/deprecation.py:87: FutureWarning: Function plot_roc_curve is deprecated; Function `plot_roc_curve` is deprecated in 1.0 and will be removed in 1.2. Use one of the class methods: RocCurveDisplay.from_predictions or RocCurveDisplay.from_estimator.\n",
            "  warnings.warn(msg, category=FutureWarning)\n"
          ]
        },
        {
          "output_type": "execute_result",
          "data": {
            "text/plain": [
              "<sklearn.metrics._plot.roc_curve.RocCurveDisplay at 0x7fa91759e5d0>"
            ]
          },
          "metadata": {},
          "execution_count": 59
        },
        {
          "output_type": "display_data",
          "data": {
            "image/png": "[encoded data removed]",
            "text/plain": [
              "<Figure size 432x288 with 1 Axes>"
            ]
          },
          "metadata": {
            "needs_background": "light"
          }
        }
      ]
    },
    {
      "cell_type": "markdown",
      "metadata": {
        "id": "O54VRUDiPzbE"
      },
      "source": [
        "If we analyze the area under curve the perfect score should be 1.0 but our model score is AUC:0.73.\n",
        "[Perfect ROC Curve](https://classeval.wordpress.com/introduction/introduction-to-the-roc-receiver-operating-characteristics-plot/)\n",
        "\n"
      ]
    },
    {
      "cell_type": "markdown",
      "metadata": {
        "id": "yPwBWQY_RjjG"
      },
      "source": [
        "## **Confusion Matrix**"
      ]
    },
    {
      "cell_type": "code",
      "metadata": {
        "colab": {
          "base_uri": "https://localhost:8080/"
        },
        "id": "j6AXcqSlw6Ra",
        "outputId": "dc39d506-92e5-4b8a-f318-c49f98544f8e"
      },
      "source": [
        "# In order To make comparisons and evaluate our trained model, we will look at confusion matrix\n",
        "print(confusion_matrix(y_test, y_preds))"
      ],
      "execution_count": 60,
      "outputs": [
        {
          "output_type": "stream",
          "name": "stdout",
          "text": [
            "[[155 137]\n",
            " [133 165]]\n"
          ]
        }
      ]
    },
    {
      "cell_type": "code",
      "metadata": {
        "colab": {
          "base_uri": "https://localhost:8080/",
          "height": 243
        },
        "id": "D1YEKoDVw6US",
        "outputId": "83e35fa6-cff6-471f-b543-109d1704d54a"
      },
      "source": [
        "sns.set(font_scale=1.5) \n",
        "\n",
        "def plot_conf_mat(y_test, y_preds):\n",
        "  fig, ax = plt.subplots(figsize=(3, 3))\n",
        "  ax = sns.heatmap(confusion_matrix(y_test, y_preds),\n",
        "                     annot=True, # Annotate the boxes\n",
        "                     cbar=False,\n",
        "                   fmt=\"0.1f\")\n",
        "  plt.xlabel(\"true label\")\n",
        "  plt.ylabel(\"predicted label\")\n",
        "    \n",
        "plot_conf_mat(y_test, y_preds)"
      ],
      "execution_count": 61,
      "outputs": [
        {
          "output_type": "display_data",
          "data": {
            "image/png": "[encoded data removed]",
            "text/plain": [
              "<Figure size 216x216 with 1 Axes>"
            ]
          },
          "metadata": {}
        }
      ]
    },
    {
      "cell_type": "markdown",
      "metadata": {
        "id": "By-B0-Oa3H-A"
      },
      "source": [
        "\n",
        "\n",
        "\n",
        "*   TN:([TP FP,FN,TP](https://www.analyticsvidhya.com/blog/2021/04/confusion-matrix-detailed-intuition-and-trick-to-learn/)) the intersection of true label and predicted label of true occurence is 165.0 meaning that our weather instances did happen while predicting fire.\n",
        "In other words from our model, this means that fires occurences which were predicted to be happening because of higher humidity and relatively low temperatures indeed does not cause fires on those days.\n",
        "*   TP: 155.0 of the observations did not happen and would not happen based on our model  In our example, this means that lower humidity and relatively high temperature which predicted to cause fire did not actually cause the fire. \n",
        "*   FN: 133.0 of the observations that the model predicted  would not happen but actually did happen, this means that The lower humidity and higher temperatures which predicted fire eventually actually sparked fires. \n",
        "*  FP: there are 137 occasaions where the model predicted to happen but did not happen (false negative). \n",
        "\n",
        "\n"
      ]
    },
    {
      "cell_type": "markdown",
      "metadata": {
        "id": "Am3sBr6io5my"
      },
      "source": [
        "## **Classification report**"
      ]
    },
    {
      "cell_type": "markdown",
      "metadata": {
        "id": "5E5nTun1TQKQ"
      },
      "source": [
        "We will use  [classfication report](https://scikit-learn.org/stable/modules/generated/sklearn.metrics.classification_report.html) from sklearn to show the precision, recall, F1 Score, and support score of your trained classification model.  "
      ]
    },
    {
      "cell_type": "code",
      "metadata": {
        "colab": {
          "base_uri": "https://localhost:8080/"
        },
        "id": "ys_4Quj-THG8",
        "outputId": "bdbed15c-1ed9-40c4-9cc6-8223592c9761"
      },
      "source": [
        "print(classification_report(y_test, y_preds))"
      ],
      "execution_count": 62,
      "outputs": [
        {
          "output_type": "stream",
          "name": "stdout",
          "text": [
            "              precision    recall  f1-score   support\n",
            "\n",
            "           0       0.54      0.53      0.53       292\n",
            "           1       0.55      0.55      0.55       298\n",
            "\n",
            "    accuracy                           0.54       590\n",
            "   macro avg       0.54      0.54      0.54       590\n",
            "weighted avg       0.54      0.54      0.54       590\n",
            "\n"
          ]
        }
      ]
    },
    {
      "cell_type": "markdown",
      "metadata": {
        "id": "XFirKONgAUJG"
      },
      "source": [
        "**The model predicts fire which were actually correct meaning no False positives(133.0 in our model) will have a precision of 1.0**. The proportion of actual  positives which were correctly identified meaning (No false Negatives) will have recall of 1.0. **If our model is perfect our FP which is 137.0 and FN which is 133.0 will be 0**. The f1-score is the harmonic mean between precision & recall since our model is not absolutely perfect our f1 score is not 1.0. The support which is number of samples each metrics are calculated on in our test data set(y_test). **In our modle there are 292 samples with a avalue of 0 and 298 with a value of 1** meaning the correct prediction of fire from weather instances.\n"
      ]
    },
    {
      "cell_type": "markdown",
      "metadata": {
        "id": "87KZXbBxZPTa"
      },
      "source": [
        "### **Which different attributes of the data were most important when it comes to predicting the outcome**"
      ]
    },
    {
      "cell_type": "markdown",
      "metadata": {
        "id": "ZRT7hvWpYcCQ"
      },
      "source": [
        "For the improvement of the model for future research , we will try to understand cases where some features are important and some features are not really i.e they are not contributing well to predict our outcomes. Therefore, we will see the best features below. "
      ]
    },
    {
      "cell_type": "markdown",
      "metadata": {
        "id": "a7HziEwF_DXU"
      },
      "source": [
        ""
      ]
    },
    {
      "cell_type": "code",
      "metadata": {
        "colab": {
          "base_uri": "https://localhost:8080/"
        },
        "id": "u557FSK_8upu",
        "outputId": "ede06416-97e0-47af-c21c-be2d5988ec1f"
      },
      "source": [
        "best_model = RandomForestRegressor(n_estimators=90,\n",
        "                                    min_samples_leaf=1,\n",
        "                                    min_samples_split=14,\n",
        "                                    max_features=0.5,\n",
        "                                    n_jobs=-1,\n",
        "                                    max_samples=None)\n",
        "best_model.fit(X_train, y_train)"
      ],
      "execution_count": 63,
      "outputs": [
        {
          "output_type": "execute_result",
          "data": {
            "text/plain": [
              "RandomForestRegressor(max_features=0.5, min_samples_split=14, n_estimators=90,\n",
              "                      n_jobs=-1)"
            ]
          },
          "metadata": {},
          "execution_count": 63
        }
      ]
    },
    {
      "cell_type": "code",
      "metadata": {
        "colab": {
          "base_uri": "https://localhost:8080/"
        },
        "id": "uZUoASu8-Uve",
        "outputId": "0ad172cd-65c2-4331-ccd5-d5b968a2d25c"
      },
      "source": [
        "best_model.feature_importances_"
      ],
      "execution_count": 64,
      "outputs": [
        {
          "output_type": "execute_result",
          "data": {
            "text/plain": [
              "array([0.03400496, 0.03368876, 0.03742381, 0.03685361, 0.04186191,\n",
              "       0.04169208, 0.03753891, 0.04156259, 0.03440894, 0.04301689,\n",
              "       0.04546421, 0.03744161, 0.03797287, 0.04038333, 0.04241737,\n",
              "       0.0738636 , 0.07323056, 0.07276159, 0.07671249, 0.11769991])"
            ]
          },
          "metadata": {},
          "execution_count": 64
        }
      ]
    },
    {
      "cell_type": "code",
      "metadata": {
        "colab": {
          "base_uri": "https://localhost:8080/",
          "height": 298
        },
        "id": "1-5warUQ_qXi",
        "outputId": "2cc951c0-f633-498c-aa4b-e745b3c8809e"
      },
      "source": [
        "def plot_features(columns, important_attributes, n=10):\n",
        "    df = (pd.DataFrame({\"attributes\": columns,\n",
        "                        \"important attributes\": important_attributes})\n",
        "          .sort_values(\"important attributes\", ascending=False)\n",
        "          .reset_index(drop=True))\n",
        "    \n",
        "    sns.barplot(x=\"important attributes\",\n",
        "                y=\"attributes\",\n",
        "                data=df[:n],\n",
        "                orient=\"h\")\n",
        "    \n",
        "plot_features(X_train.columns, best_model.feature_importances_)"
      ],
      "execution_count": 65,
      "outputs": [
        {
          "output_type": "display_data",
          "data": {
            "image/png": "[encoded data removed]",
            "text/plain": [
              "<Figure size 432x288 with 1 Axes>"
            ]
          },
          "metadata": {}
        }
      ]
    },
    {
      "cell_type": "markdown",
      "metadata": {
        "id": "UPIIAraqFdM7"
      },
      "source": [
        "We will first instantiate best model with best hyperparameters. Since this is our best scored model, we'll look at one way we can calculate feature importance for it.\n",
        "The larger the  bar, the more that feature contributes to the models outcome."
      ]
    }
  ]
}